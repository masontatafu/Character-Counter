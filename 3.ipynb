{
 "cells": [
  {
   "cell_type": "markdown",
   "metadata": {
    "id": "g6YXO5CuvEtt"
   },
   "source": [
    "# CIS 443-01 - Analytics Programming\n",
    "## Lab 6\n",
    "__Grading ID__: KP0000 (double click the cell in Jupyter to edit, find ID in Blackboard Gradebook)<br>\n",
    "__Due__: Monday, March 6 (by 11:59 PM)<br />\n",
    "__Worth__: 25 pts."
   ]
  },
  {
   "cell_type": "markdown",
   "metadata": {
    "id": "B6sRXvrTvEtv"
   },
   "source": [
    "### Directions\n",
    "**Exercise 6.7, p. 235 (Character Counts)** Recall that strings are sequences of characters. Use techniques similar to **Fig. 6.2** to write a script that inputs a sentence from the user, then uses a dictionary to summarize the number of occurrences of each letter. Ignore case, ignore blanks, and assume the user does not enter any punctuation (or you can just count the characters that are letters). Display a two-column table of the letters and their counts with the letters in sorted order. Finally, use a `set` operation to determine which letters of the alphabet were not in the original string and print this result, as well. Test your source code and save your work before submission.<br>\n",
    "**Hint**: It will be helpful to have a string variable with all the lowercase or uppercase letters to determine which letters of the alphabet were not in the entered string. Luckily, Python provides such strings in the `string` module as <a href=\"https://docs.python.org/3/library/string.html#string.ascii_lowercase\" target=\"_blank\">`string.ascii_lowercase`</a> and <a href=\"https://docs.python.org/3/library/string.html#string.ascii_uppercase\" target=\"_blank\">`string.ascii_uppercase`</a>. Then you can use set difference to answer the last part of the assignment.\n"
   ]
  },
  {
   "cell_type": "code",
   "execution_count": 13,
   "metadata": {
    "id": "8cS_2x47vEty"
   },
   "outputs": [
    {
     "name": "stdin",
     "output_type": "stream",
     "text": [
      "Enter your sentence:  I can't wait to hit mufasa later. \n"
     ]
    },
    {
     "name": "stdout",
     "output_type": "stream",
     "text": [
      "Letter    Count\n",
      "a         5\n",
      "c         1\n",
      "e         1\n",
      "f         1\n",
      "h         1\n",
      "i         3\n",
      "l         1\n",
      "m         1\n",
      "n         1\n",
      "o         1\n",
      "r         1\n",
      "s         1\n",
      "t         5\n",
      "u         1\n",
      "w         1\n",
      "Letters not in the sentence:  bdgjkpqvxyz\n"
     ]
    }
   ],
   "source": [
    "# Put Lab 6 Code Here\n",
    "import string\n",
    "\n",
    "def count_letters(sentence):\n",
    "\n",
    "#1. make a dictionary to hold the counts of letters\n",
    "    letters_counter = {}\n",
    "\n",
    "#2. now we need to check the sentence, and also convert it to lowercase, whilst ignoring non-letter chars\n",
    "    for letter in user_sentence.lower():\n",
    "        if letter.isalpha():\n",
    "            if letter in letters_counter:\n",
    "                letters_counter[letter] += 1\n",
    "            else:\n",
    "                letters_counter[letter] = 1\n",
    "    \n",
    "    \n",
    "    #3. now we need to sort and also display the count for each letter\n",
    "    print(f\"{'Letter':<10}{'Count'}\")\n",
    "    for letter in sorted(letters_counter):\n",
    "        print(f\"{letter:<10}{letters_counter[letter]}\")\n",
    "    \n",
    "    #4. now we need to determine the missing letters using set operation\n",
    "    \n",
    "    all_alphabet = set(string.ascii_lowercase)\n",
    "    used_letters = set(letters_counter.keys())\n",
    "    missing_letters = all_alphabet - used_letters\n",
    "\n",
    "    #5. now we will print the missing letters\n",
    "    print(\"Letters not in the sentence: \", ''.join(sorted(missing_letters)))\n",
    "\n",
    "user_sentence = input(\"Enter your sentence: \")\n",
    "count_letters(user_sentence)\n",
    "\n",
    "      \n",
    "\n",
    "\n"
   ]
  },
  {
   "cell_type": "markdown",
   "metadata": {
    "id": "TjAb_IeFvEt0"
   },
   "source": [
    "Be sure to save and exit your Jupyter Notebook and Shutdown Jupyter Lab (from the __File__ menu) if using Ananconda before you submit your notebook on Blackboard for grading. If using Colab, be sure to Download (from the __File__ menu) back to your local file system before submitting to Blackboard.\n",
    "Make sure you don't submit the empty starting notebook by accident."
   ]
  },
  {
   "cell_type": "code",
   "execution_count": null,
   "metadata": {},
   "outputs": [],
   "source": []
  }
 ],
 "metadata": {
  "colab": {
   "collapsed_sections": [],
   "provenance": []
  },
  "kernelspec": {
   "display_name": "Python 3 (ipykernel)",
   "language": "python",
   "name": "python3"
  },
  "language_info": {
   "codemirror_mode": {
    "name": "ipython",
    "version": 3
   },
   "file_extension": ".py",
   "mimetype": "text/x-python",
   "name": "python",
   "nbconvert_exporter": "python",
   "pygments_lexer": "ipython3",
   "version": "3.12.2"
  }
 },
 "nbformat": 4,
 "nbformat_minor": 4
}
